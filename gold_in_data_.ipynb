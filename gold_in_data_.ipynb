{
 "cells": [
  {
   "cell_type": "code",
   "execution_count": 151,
   "metadata": {},
   "outputs": [],
   "source": [
    "# import libraries\n",
    "import pandas as pd\n",
    "import numpy as np\n",
    "import matplotlib.pyplot as plt\n",
    "import seaborn as sns\n",
    "%matplotlib inline"
   ]
  },
  {
   "cell_type": "code",
   "execution_count": 152,
   "metadata": {},
   "outputs": [],
   "source": [
    "# unfortunately while doing analysis I found there are some \"infinte\" values created in the process\n",
    "pd.set_option('use_inf_as_na', True)"
   ]
  },
  {
   "cell_type": "code",
   "execution_count": 153,
   "metadata": {},
   "outputs": [],
   "source": [
    "# import data\n",
    "df = pd.read_csv(\"C:/Users/DataS/Desktop/eda_gold/data.csv\")"
   ]
  },
  {
   "cell_type": "code",
   "execution_count": 154,
   "metadata": {},
   "outputs": [
    {
     "data": {
      "text/html": [
       "<div>\n",
       "<style scoped>\n",
       "    .dataframe tbody tr th:only-of-type {\n",
       "        vertical-align: middle;\n",
       "    }\n",
       "\n",
       "    .dataframe tbody tr th {\n",
       "        vertical-align: top;\n",
       "    }\n",
       "\n",
       "    .dataframe thead th {\n",
       "        text-align: right;\n",
       "    }\n",
       "</style>\n",
       "<table border=\"1\" class=\"dataframe\">\n",
       "  <thead>\n",
       "    <tr style=\"text-align: right;\">\n",
       "      <th></th>\n",
       "      <th>countryc</th>\n",
       "      <th>year</th>\n",
       "      <th>agrgdp</th>\n",
       "      <th>popn</th>\n",
       "      <th>infmort</th>\n",
       "      <th>schprim</th>\n",
       "      <th>schsec</th>\n",
       "      <th>grtdsbp</th>\n",
       "      <th>grlndsbp</th>\n",
       "      <th>aiddsbp</th>\n",
       "      <th>...</th>\n",
       "      <th>dcurexpp</th>\n",
       "      <th>dcapexpp</th>\n",
       "      <th>dprirepp</th>\n",
       "      <th>dcnlnagp</th>\n",
       "      <th>dcnlnenp</th>\n",
       "      <th>dcnlninp</th>\n",
       "      <th>dcnlntacp</th>\n",
       "      <th>dcnlnedup</th>\n",
       "      <th>dcnlnhthp</th>\n",
       "      <th>dcnlnothp</th>\n",
       "    </tr>\n",
       "  </thead>\n",
       "  <tbody>\n",
       "    <tr>\n",
       "      <td>0</td>\n",
       "      <td>Burkina Faso</td>\n",
       "      <td>1970</td>\n",
       "      <td>35.44188862</td>\n",
       "      <td>5633000</td>\n",
       "      <td>141.3999939</td>\n",
       "      <td>13</td>\n",
       "      <td>1</td>\n",
       "      <td>13.3182802200317</td>\n",
       "      <td>1.02303504943848</td>\n",
       "      <td>14.3413200378418</td>\n",
       "      <td>...</td>\n",
       "      <td>1.79769313486232e+308</td>\n",
       "      <td>1.79769313486232e+308</td>\n",
       "      <td>1.79769313486232e+308</td>\n",
       "      <td>1.79769313486232e+308</td>\n",
       "      <td>1.79769313486232e+308</td>\n",
       "      <td>1.79769313486232e+308</td>\n",
       "      <td>1.79769313486232e+308</td>\n",
       "      <td>1.79769313486232e+308</td>\n",
       "      <td>1.79769313486232e+308</td>\n",
       "      <td>1.79769313486232e+308</td>\n",
       "    </tr>\n",
       "    <tr>\n",
       "      <td>1</td>\n",
       "      <td>Burkina Faso</td>\n",
       "      <td>1971</td>\n",
       "      <td>36.16739069</td>\n",
       "      <td>5740700</td>\n",
       "      <td>139.1999969</td>\n",
       "      <td>13.6</td>\n",
       "      <td>1.2</td>\n",
       "      <td>16.7043991088867</td>\n",
       "      <td>0.655763506889343</td>\n",
       "      <td>17.3601703643799</td>\n",
       "      <td>...</td>\n",
       "      <td>1.79769313486232e+308</td>\n",
       "      <td>1.79769313486232e+308</td>\n",
       "      <td>1.79769313486232e+308</td>\n",
       "      <td>1.79769313486232e+308</td>\n",
       "      <td>1.79769313486232e+308</td>\n",
       "      <td>1.79769313486232e+308</td>\n",
       "      <td>1.79769313486232e+308</td>\n",
       "      <td>1.79769313486232e+308</td>\n",
       "      <td>1.79769313486232e+308</td>\n",
       "      <td>1.79769313486232e+308</td>\n",
       "    </tr>\n",
       "    <tr>\n",
       "      <td>2</td>\n",
       "      <td>Burkina Faso</td>\n",
       "      <td>1972</td>\n",
       "      <td>37.51058767</td>\n",
       "      <td>5848380</td>\n",
       "      <td>137</td>\n",
       "      <td>14.2</td>\n",
       "      <td>1.4</td>\n",
       "      <td>20.9176502227783</td>\n",
       "      <td>2.97720909118652</td>\n",
       "      <td>23.8948593139648</td>\n",
       "      <td>...</td>\n",
       "      <td>1.79769313486232e+308</td>\n",
       "      <td>1.79769313486232e+308</td>\n",
       "      <td>1.79769313486232e+308</td>\n",
       "      <td>1.79769313486232e+308</td>\n",
       "      <td>1.79769313486232e+308</td>\n",
       "      <td>1.79769313486232e+308</td>\n",
       "      <td>1.79769313486232e+308</td>\n",
       "      <td>1.79769313486232e+308</td>\n",
       "      <td>1.79769313486232e+308</td>\n",
       "      <td>1.79769313486232e+308</td>\n",
       "    </tr>\n",
       "    <tr>\n",
       "      <td>3</td>\n",
       "      <td>Burkina Faso</td>\n",
       "      <td>1973</td>\n",
       "      <td>34.83428571</td>\n",
       "      <td>5958700</td>\n",
       "      <td>135</td>\n",
       "      <td>14.8</td>\n",
       "      <td>1.6</td>\n",
       "      <td>25.9791507720947</td>\n",
       "      <td>3.87817406654358</td>\n",
       "      <td>29.8573207855225</td>\n",
       "      <td>...</td>\n",
       "      <td>1.79769313486232e+308</td>\n",
       "      <td>1.79769313486232e+308</td>\n",
       "      <td>-4.26292991638184</td>\n",
       "      <td>0.290098994970322</td>\n",
       "      <td>0.0578910000622272</td>\n",
       "      <td>2.53049802780151</td>\n",
       "      <td>-0.38238000869751</td>\n",
       "      <td>0</td>\n",
       "      <td>0</td>\n",
       "      <td>-0.11642000079155</td>\n",
       "    </tr>\n",
       "    <tr>\n",
       "      <td>4</td>\n",
       "      <td>Burkina Faso</td>\n",
       "      <td>1974</td>\n",
       "      <td>36.48014145</td>\n",
       "      <td>6075700</td>\n",
       "      <td>133</td>\n",
       "      <td>15.4</td>\n",
       "      <td>1.8</td>\n",
       "      <td>38.6305809020996</td>\n",
       "      <td>6.66203498840332</td>\n",
       "      <td>45.2926216125488</td>\n",
       "      <td>...</td>\n",
       "      <td>1.79769313486232e+308</td>\n",
       "      <td>1.79769313486232e+308</td>\n",
       "      <td>1.79769313486232e+308</td>\n",
       "      <td>1.79769313486232e+308</td>\n",
       "      <td>1.79769313486232e+308</td>\n",
       "      <td>1.79769313486232e+308</td>\n",
       "      <td>1.79769313486232e+308</td>\n",
       "      <td>1.79769313486232e+308</td>\n",
       "      <td>1.79769313486232e+308</td>\n",
       "      <td>1.79769313486232e+308</td>\n",
       "    </tr>\n",
       "  </tbody>\n",
       "</table>\n",
       "<p>5 rows × 50 columns</p>\n",
       "</div>"
      ],
      "text/plain": [
       "       countryc  year       agrgdp     popn      infmort schprim schsec  \\\n",
       "0  Burkina Faso  1970  35.44188862  5633000  141.3999939      13      1   \n",
       "1  Burkina Faso  1971  36.16739069  5740700  139.1999969    13.6    1.2   \n",
       "2  Burkina Faso  1972  37.51058767  5848380          137    14.2    1.4   \n",
       "3  Burkina Faso  1973  34.83428571  5958700          135    14.8    1.6   \n",
       "4  Burkina Faso  1974  36.48014145  6075700          133    15.4    1.8   \n",
       "\n",
       "            grtdsbp           grlndsbp           aiddsbp  ...  \\\n",
       "0  13.3182802200317   1.02303504943848  14.3413200378418  ...   \n",
       "1  16.7043991088867  0.655763506889343  17.3601703643799  ...   \n",
       "2  20.9176502227783   2.97720909118652  23.8948593139648  ...   \n",
       "3  25.9791507720947   3.87817406654358  29.8573207855225  ...   \n",
       "4  38.6305809020996   6.66203498840332  45.2926216125488  ...   \n",
       "\n",
       "                dcurexpp               dcapexpp               dprirepp  \\\n",
       "0  1.79769313486232e+308  1.79769313486232e+308  1.79769313486232e+308   \n",
       "1  1.79769313486232e+308  1.79769313486232e+308  1.79769313486232e+308   \n",
       "2  1.79769313486232e+308  1.79769313486232e+308  1.79769313486232e+308   \n",
       "3  1.79769313486232e+308  1.79769313486232e+308      -4.26292991638184   \n",
       "4  1.79769313486232e+308  1.79769313486232e+308  1.79769313486232e+308   \n",
       "\n",
       "                dcnlnagp               dcnlnenp               dcnlninp  \\\n",
       "0  1.79769313486232e+308  1.79769313486232e+308  1.79769313486232e+308   \n",
       "1  1.79769313486232e+308  1.79769313486232e+308  1.79769313486232e+308   \n",
       "2  1.79769313486232e+308  1.79769313486232e+308  1.79769313486232e+308   \n",
       "3      0.290098994970322     0.0578910000622272       2.53049802780151   \n",
       "4  1.79769313486232e+308  1.79769313486232e+308  1.79769313486232e+308   \n",
       "\n",
       "               dcnlntacp              dcnlnedup              dcnlnhthp  \\\n",
       "0  1.79769313486232e+308  1.79769313486232e+308  1.79769313486232e+308   \n",
       "1  1.79769313486232e+308  1.79769313486232e+308  1.79769313486232e+308   \n",
       "2  1.79769313486232e+308  1.79769313486232e+308  1.79769313486232e+308   \n",
       "3      -0.38238000869751                      0                      0   \n",
       "4  1.79769313486232e+308  1.79769313486232e+308  1.79769313486232e+308   \n",
       "\n",
       "               dcnlnothp  \n",
       "0  1.79769313486232e+308  \n",
       "1  1.79769313486232e+308  \n",
       "2  1.79769313486232e+308  \n",
       "3      -0.11642000079155  \n",
       "4  1.79769313486232e+308  \n",
       "\n",
       "[5 rows x 50 columns]"
      ]
     },
     "execution_count": 154,
     "metadata": {},
     "output_type": "execute_result"
    }
   ],
   "source": [
    "# take a peak into the data\n",
    "df.head()"
   ]
  },
  {
   "cell_type": "code",
   "execution_count": 155,
   "metadata": {},
   "outputs": [
    {
     "data": {
      "text/plain": [
       "(471, 50)"
      ]
     },
     "execution_count": 155,
     "metadata": {},
     "output_type": "execute_result"
    }
   ],
   "source": [
    "# show number of rows and columns\n",
    "df.shape"
   ]
  },
  {
   "cell_type": "code",
   "execution_count": 156,
   "metadata": {},
   "outputs": [
    {
     "data": {
      "text/plain": [
       "Index(['countryc', 'year', 'agrgdp', 'popn', 'infmort', 'schprim', 'schsec',\n",
       "       'grtdsbp', 'grlndsbp', 'aiddsbp', 'totexpp', 'agexpp', 'enexpp',\n",
       "       'indexpp', 'tacexpp', 'eduexpp', 'hthexpp', 'prirepp', 'curexpp',\n",
       "       'capexpp', 'gdnpp', 'd0', 'cnlnagp', 'cnlnenp', 'cnlninp', 'cnlntacp',\n",
       "       'cnlnedup', 'cnlnhthp', 'cnlnothp', 'dgrtdsbp', 'dgrlndsbp', 'daiddsbp',\n",
       "       'dtotexpp', 'dagexpp', 'denexpp', 'dindexpp', 'dtacexpp', 'deduexpp',\n",
       "       'dhthexpp', 'dothexpp', 'dcurexpp', 'dcapexpp', 'dprirepp', 'dcnlnagp',\n",
       "       'dcnlnenp', 'dcnlninp', 'dcnlntacp', 'dcnlnedup', 'dcnlnhthp',\n",
       "       'dcnlnothp'],\n",
       "      dtype='object')"
      ]
     },
     "execution_count": 156,
     "metadata": {},
     "output_type": "execute_result"
    }
   ],
   "source": [
    "# display the column names\n",
    "df.columns\n",
    "\n",
    "# column names are not easy to read, so need to take a look at the data disctionary and documentation. \n",
    "# Also good idea to check the complete definition of each column names, for example, which measure of GDP was used \n",
    "# (e.g. total, nominal, USD etc.)"
   ]
  },
  {
   "cell_type": "code",
   "execution_count": 157,
   "metadata": {},
   "outputs": [],
   "source": [
    "# rename the columns I'll be working with\n",
    "df = df.rename(columns={\"countryc\": \"country\", \"agrgdp\": \"agri_gdp\", \"popn\": \"population\", \"infmort\": \"infant_mort\",\n",
    "                  \"schprim\": \"school_enroll_primary\", \"schsec\": \"school_enroll_secondary\", \n",
    "                   \"grtdsbp\": \"grants_percap\", \"grlndsbp\": \"loans_percap\",\n",
    "                  \"aiddsbp\": \"aid_percap\", \"totexpp\": \"govt_expenditure\", \"agexpp\": \"agri_expenditure\", \n",
    "                   \"enexpp\": \"energy_expenditure\", \"indexpp\": \"industry_expenditure\", \"tacexpp\": \"comms_expenditure\",\n",
    "                   \"eduexpp\": \"edu_expenditure\", \"hthexpp\": \"health_expenditure\", \n",
    "                   \"gdnpp\": \"gdp_percap\",\"d0\": \"num_donors\", \"cnlnagp\": \"loan_to_agri\", \"cnlnenp\": \"loan_to_energy\", \n",
    "                   \"cnlninp\": \"loan_to_indus\", \n",
    "                   \"cnlntacp\": \"loan_to_comm\", \"cnlnedup\": \"loan_to_edu\", \"cnlnhthp\": \"loan_to_health\", \n",
    "                   \"cnlnothp\": \"loan_to_others\", \n",
    "                  })\n",
    "# rest of the columns are calculated columns \n",
    "# the derived first differences the authors added for modeling purposes, I don't need them"
   ]
  },
  {
   "cell_type": "code",
   "execution_count": 158,
   "metadata": {
    "scrolled": true
   },
   "outputs": [
    {
     "data": {
      "text/plain": [
       "Index(['country', 'year', 'agri_gdp', 'population', 'infant_mort',\n",
       "       'school_enroll_primary', 'school_enroll_secondary', 'grants_percap',\n",
       "       'loans_percap', 'aid_percap', 'govt_expenditure', 'agri_expenditure',\n",
       "       'energy_expenditure', 'industry_expenditure', 'comms_expenditure',\n",
       "       'edu_expenditure', 'health_expenditure', 'prirepp', 'curexpp',\n",
       "       'capexpp', 'gdp_percap', 'num_donors', 'loan_to_agri', 'loan_to_energy',\n",
       "       'loan_to_indus', 'loan_to_comm', 'loan_to_edu', 'loan_to_health',\n",
       "       'loan_to_others', 'dgrtdsbp', 'dgrlndsbp', 'daiddsbp', 'dtotexpp',\n",
       "       'dagexpp', 'denexpp', 'dindexpp', 'dtacexpp', 'deduexpp', 'dhthexpp',\n",
       "       'dothexpp', 'dcurexpp', 'dcapexpp', 'dprirepp', 'dcnlnagp', 'dcnlnenp',\n",
       "       'dcnlninp', 'dcnlntacp', 'dcnlnedup', 'dcnlnhthp', 'dcnlnothp'],\n",
       "      dtype='object')"
      ]
     },
     "execution_count": 158,
     "metadata": {},
     "output_type": "execute_result"
    }
   ],
   "source": [
    "# double checking the column names\n",
    "df.columns"
   ]
  },
  {
   "cell_type": "code",
   "execution_count": 159,
   "metadata": {},
   "outputs": [
    {
     "data": {
      "text/html": [
       "<div>\n",
       "<style scoped>\n",
       "    .dataframe tbody tr th:only-of-type {\n",
       "        vertical-align: middle;\n",
       "    }\n",
       "\n",
       "    .dataframe tbody tr th {\n",
       "        vertical-align: top;\n",
       "    }\n",
       "\n",
       "    .dataframe thead th {\n",
       "        text-align: right;\n",
       "    }\n",
       "</style>\n",
       "<table border=\"1\" class=\"dataframe\">\n",
       "  <thead>\n",
       "    <tr style=\"text-align: right;\">\n",
       "      <th></th>\n",
       "      <th>country</th>\n",
       "      <th>year</th>\n",
       "      <th>agri_gdp</th>\n",
       "      <th>population</th>\n",
       "      <th>infant_mort</th>\n",
       "      <th>school_enroll_primary</th>\n",
       "      <th>school_enroll_secondary</th>\n",
       "      <th>grants_percap</th>\n",
       "      <th>loans_percap</th>\n",
       "      <th>aid_percap</th>\n",
       "      <th>...</th>\n",
       "      <th>capexpp</th>\n",
       "      <th>gdp_percap</th>\n",
       "      <th>num_donors</th>\n",
       "      <th>loan_to_agri</th>\n",
       "      <th>loan_to_energy</th>\n",
       "      <th>loan_to_indus</th>\n",
       "      <th>loan_to_comm</th>\n",
       "      <th>loan_to_edu</th>\n",
       "      <th>loan_to_health</th>\n",
       "      <th>loan_to_others</th>\n",
       "    </tr>\n",
       "  </thead>\n",
       "  <tbody>\n",
       "    <tr>\n",
       "      <td>0</td>\n",
       "      <td>Burkina Faso</td>\n",
       "      <td>1970</td>\n",
       "      <td>35.44188862</td>\n",
       "      <td>5633000</td>\n",
       "      <td>141.3999939</td>\n",
       "      <td>13</td>\n",
       "      <td>1</td>\n",
       "      <td>13.3182802200317</td>\n",
       "      <td>1.02303504943848</td>\n",
       "      <td>14.3413200378418</td>\n",
       "      <td>...</td>\n",
       "      <td>1.79769313486232e+308</td>\n",
       "      <td>246.414001464844</td>\n",
       "      <td>10</td>\n",
       "      <td>0.0470721982419491</td>\n",
       "      <td>0</td>\n",
       "      <td>0.320718288421631</td>\n",
       "      <td>0.00690389983355999</td>\n",
       "      <td>0</td>\n",
       "      <td>0</td>\n",
       "      <td>0.289336889982224</td>\n",
       "    </tr>\n",
       "    <tr>\n",
       "      <td>1</td>\n",
       "      <td>Burkina Faso</td>\n",
       "      <td>1971</td>\n",
       "      <td>36.16739069</td>\n",
       "      <td>5740700</td>\n",
       "      <td>139.1999969</td>\n",
       "      <td>13.6</td>\n",
       "      <td>1.2</td>\n",
       "      <td>16.7043991088867</td>\n",
       "      <td>0.655763506889343</td>\n",
       "      <td>17.3601703643799</td>\n",
       "      <td>...</td>\n",
       "      <td>1.79769313486232e+308</td>\n",
       "      <td>237.336502075195</td>\n",
       "      <td>11</td>\n",
       "      <td>0.0304461997002363</td>\n",
       "      <td>0</td>\n",
       "      <td>0.317928194999695</td>\n",
       "      <td>0.00292750005610287</td>\n",
       "      <td>0</td>\n",
       "      <td>0</td>\n",
       "      <td>0.124712198972702</td>\n",
       "    </tr>\n",
       "    <tr>\n",
       "      <td>2</td>\n",
       "      <td>Burkina Faso</td>\n",
       "      <td>1972</td>\n",
       "      <td>37.51058767</td>\n",
       "      <td>5848380</td>\n",
       "      <td>137</td>\n",
       "      <td>14.2</td>\n",
       "      <td>1.4</td>\n",
       "      <td>20.9176502227783</td>\n",
       "      <td>2.97720909118652</td>\n",
       "      <td>23.8948593139648</td>\n",
       "      <td>...</td>\n",
       "      <td>1.79769313486232e+308</td>\n",
       "      <td>270.989410400391</td>\n",
       "      <td>13</td>\n",
       "      <td>0.533692181110382</td>\n",
       "      <td>0</td>\n",
       "      <td>0.185248598456383</td>\n",
       "      <td>0.567323684692383</td>\n",
       "      <td>0</td>\n",
       "      <td>0</td>\n",
       "      <td>0.616943776607513</td>\n",
       "    </tr>\n",
       "    <tr>\n",
       "      <td>3</td>\n",
       "      <td>Burkina Faso</td>\n",
       "      <td>1973</td>\n",
       "      <td>34.83428571</td>\n",
       "      <td>5958700</td>\n",
       "      <td>135</td>\n",
       "      <td>14.8</td>\n",
       "      <td>1.6</td>\n",
       "      <td>25.9791507720947</td>\n",
       "      <td>3.87817406654358</td>\n",
       "      <td>29.8573207855225</td>\n",
       "      <td>...</td>\n",
       "      <td>3.56338310241699</td>\n",
       "      <td>291.868499755859</td>\n",
       "      <td>16</td>\n",
       "      <td>0.823791682720184</td>\n",
       "      <td>0.0578907988965511</td>\n",
       "      <td>2.71574592590332</td>\n",
       "      <td>0.184943303465843</td>\n",
       "      <td>0</td>\n",
       "      <td>0</td>\n",
       "      <td>0.500525176525116</td>\n",
       "    </tr>\n",
       "    <tr>\n",
       "      <td>4</td>\n",
       "      <td>Burkina Faso</td>\n",
       "      <td>1974</td>\n",
       "      <td>36.48014145</td>\n",
       "      <td>6075700</td>\n",
       "      <td>133</td>\n",
       "      <td>15.4</td>\n",
       "      <td>1.8</td>\n",
       "      <td>38.6305809020996</td>\n",
       "      <td>6.66203498840332</td>\n",
       "      <td>45.2926216125488</td>\n",
       "      <td>...</td>\n",
       "      <td>3.30492210388184</td>\n",
       "      <td>292.736785888672</td>\n",
       "      <td>16</td>\n",
       "      <td>0.749651789665222</td>\n",
       "      <td>0.332871198654175</td>\n",
       "      <td>3.32410192489624</td>\n",
       "      <td>0.572612285614014</td>\n",
       "      <td>0</td>\n",
       "      <td>0</td>\n",
       "      <td>1.24158203601837</td>\n",
       "    </tr>\n",
       "  </tbody>\n",
       "</table>\n",
       "<p>5 rows × 29 columns</p>\n",
       "</div>"
      ],
      "text/plain": [
       "        country  year     agri_gdp population  infant_mort  \\\n",
       "0  Burkina Faso  1970  35.44188862    5633000  141.3999939   \n",
       "1  Burkina Faso  1971  36.16739069    5740700  139.1999969   \n",
       "2  Burkina Faso  1972  37.51058767    5848380          137   \n",
       "3  Burkina Faso  1973  34.83428571    5958700          135   \n",
       "4  Burkina Faso  1974  36.48014145    6075700          133   \n",
       "\n",
       "  school_enroll_primary school_enroll_secondary     grants_percap  \\\n",
       "0                    13                       1  13.3182802200317   \n",
       "1                  13.6                     1.2  16.7043991088867   \n",
       "2                  14.2                     1.4  20.9176502227783   \n",
       "3                  14.8                     1.6  25.9791507720947   \n",
       "4                  15.4                     1.8  38.6305809020996   \n",
       "\n",
       "        loans_percap        aid_percap  ...                capexpp  \\\n",
       "0   1.02303504943848  14.3413200378418  ...  1.79769313486232e+308   \n",
       "1  0.655763506889343  17.3601703643799  ...  1.79769313486232e+308   \n",
       "2   2.97720909118652  23.8948593139648  ...  1.79769313486232e+308   \n",
       "3   3.87817406654358  29.8573207855225  ...       3.56338310241699   \n",
       "4   6.66203498840332  45.2926216125488  ...       3.30492210388184   \n",
       "\n",
       "         gdp_percap num_donors        loan_to_agri      loan_to_energy  \\\n",
       "0  246.414001464844         10  0.0470721982419491                   0   \n",
       "1  237.336502075195         11  0.0304461997002363                   0   \n",
       "2  270.989410400391         13   0.533692181110382                   0   \n",
       "3  291.868499755859         16   0.823791682720184  0.0578907988965511   \n",
       "4  292.736785888672         16   0.749651789665222   0.332871198654175   \n",
       "\n",
       "       loan_to_indus         loan_to_comm loan_to_edu loan_to_health  \\\n",
       "0  0.320718288421631  0.00690389983355999           0              0   \n",
       "1  0.317928194999695  0.00292750005610287           0              0   \n",
       "2  0.185248598456383    0.567323684692383           0              0   \n",
       "3   2.71574592590332    0.184943303465843           0              0   \n",
       "4   3.32410192489624    0.572612285614014           0              0   \n",
       "\n",
       "      loan_to_others  \n",
       "0  0.289336889982224  \n",
       "1  0.124712198972702  \n",
       "2  0.616943776607513  \n",
       "3  0.500525176525116  \n",
       "4   1.24158203601837  \n",
       "\n",
       "[5 rows x 29 columns]"
      ]
     },
     "execution_count": 159,
     "metadata": {},
     "output_type": "execute_result"
    }
   ],
   "source": [
    "# subseting data frame to get rid of the columns I am not interested in\n",
    "df = df.loc[:, : \"loan_to_others\"]\n",
    "df.head()\n",
    "\n",
    "# looks like three additional columns I need to drop as well. Otherwise all good"
   ]
  },
  {
   "cell_type": "code",
   "execution_count": 160,
   "metadata": {},
   "outputs": [],
   "source": [
    "# drop some additional columns\n",
    "df = df.drop([\"capexpp\", \"curexpp\", \"prirepp\"], axis=1)"
   ]
  },
  {
   "cell_type": "code",
   "execution_count": 161,
   "metadata": {
    "scrolled": false
   },
   "outputs": [
    {
     "name": "stdout",
     "output_type": "stream",
     "text": [
      "<class 'pandas.core.frame.DataFrame'>\n",
      "RangeIndex: 471 entries, 0 to 470\n",
      "Data columns (total 26 columns):\n",
      "country                    471 non-null object\n",
      "year                       471 non-null int64\n",
      "agri_gdp                   471 non-null object\n",
      "population                 471 non-null object\n",
      "infant_mort                471 non-null object\n",
      "school_enroll_primary      471 non-null object\n",
      "school_enroll_secondary    471 non-null object\n",
      "grants_percap              471 non-null object\n",
      "loans_percap               471 non-null object\n",
      "aid_percap                 471 non-null object\n",
      "govt_expenditure           471 non-null object\n",
      "agri_expenditure           471 non-null object\n",
      "energy_expenditure         471 non-null object\n",
      "industry_expenditure       471 non-null object\n",
      "comms_expenditure          471 non-null object\n",
      "edu_expenditure            471 non-null object\n",
      "health_expenditure         471 non-null object\n",
      "gdp_percap                 471 non-null object\n",
      "num_donors                 471 non-null object\n",
      "loan_to_agri               471 non-null object\n",
      "loan_to_energy             471 non-null object\n",
      "loan_to_indus              471 non-null object\n",
      "loan_to_comm               471 non-null object\n",
      "loan_to_edu                471 non-null object\n",
      "loan_to_health             471 non-null object\n",
      "loan_to_others             471 non-null object\n",
      "dtypes: int64(1), object(25)\n",
      "memory usage: 95.8+ KB\n"
     ]
    }
   ],
   "source": [
    "# checking data types\n",
    "df.info()\n",
    "\n",
    "# other than the first two columns all are objects, which I know for a fact are floating numbers. \n",
    "# So need to change data types"
   ]
  },
  {
   "cell_type": "code",
   "execution_count": 162,
   "metadata": {},
   "outputs": [],
   "source": [
    "# converting data types from objects to float\n",
    "df.loc[:, \"agri_gdp\":] = df.loc[:, \"agri_gdp\":].astype(\"float\")"
   ]
  },
  {
   "cell_type": "code",
   "execution_count": 163,
   "metadata": {
    "scrolled": false
   },
   "outputs": [
    {
     "name": "stdout",
     "output_type": "stream",
     "text": [
      "<class 'pandas.core.frame.DataFrame'>\n",
      "RangeIndex: 471 entries, 0 to 470\n",
      "Data columns (total 26 columns):\n",
      "country                    471 non-null object\n",
      "year                       471 non-null int64\n",
      "agri_gdp                   452 non-null float64\n",
      "population                 468 non-null float64\n",
      "infant_mort                468 non-null float64\n",
      "school_enroll_primary      441 non-null float64\n",
      "school_enroll_secondary    436 non-null float64\n",
      "grants_percap              468 non-null float64\n",
      "loans_percap               468 non-null float64\n",
      "aid_percap                 468 non-null float64\n",
      "govt_expenditure           309 non-null float64\n",
      "agri_expenditure           299 non-null float64\n",
      "energy_expenditure         299 non-null float64\n",
      "industry_expenditure       298 non-null float64\n",
      "comms_expenditure          298 non-null float64\n",
      "edu_expenditure            304 non-null float64\n",
      "health_expenditure         304 non-null float64\n",
      "gdp_percap                 446 non-null float64\n",
      "num_donors                 446 non-null float64\n",
      "loan_to_agri               468 non-null float64\n",
      "loan_to_energy             468 non-null float64\n",
      "loan_to_indus              468 non-null float64\n",
      "loan_to_comm               468 non-null float64\n",
      "loan_to_edu                468 non-null float64\n",
      "loan_to_health             468 non-null float64\n",
      "loan_to_others             468 non-null float64\n",
      "dtypes: float64(24), int64(1), object(1)\n",
      "memory usage: 95.8+ KB\n"
     ]
    }
   ],
   "source": [
    "# now double check again if the changes were made correctly\n",
    "df.info()"
   ]
  },
  {
   "cell_type": "code",
   "execution_count": 164,
   "metadata": {
    "scrolled": false
   },
   "outputs": [
    {
     "data": {
      "text/plain": [
       "country                      0\n",
       "year                         0\n",
       "agri_gdp                    19\n",
       "population                   3\n",
       "infant_mort                  3\n",
       "school_enroll_primary       30\n",
       "school_enroll_secondary     35\n",
       "grants_percap                3\n",
       "loans_percap                 3\n",
       "aid_percap                   3\n",
       "govt_expenditure           162\n",
       "agri_expenditure           172\n",
       "energy_expenditure         172\n",
       "industry_expenditure       173\n",
       "comms_expenditure          173\n",
       "edu_expenditure            167\n",
       "health_expenditure         167\n",
       "gdp_percap                  25\n",
       "num_donors                  25\n",
       "loan_to_agri                 3\n",
       "loan_to_energy               3\n",
       "loan_to_indus                3\n",
       "loan_to_comm                 3\n",
       "loan_to_edu                  3\n",
       "loan_to_health               3\n",
       "loan_to_others               3\n",
       "dtype: int64"
      ]
     },
     "execution_count": 164,
     "metadata": {},
     "output_type": "execute_result"
    }
   ],
   "source": [
    "# one final thing is to check if there are empty/null cells in the data\n",
    "# If there is any, I do not have to fix them right away, but good to keep in mind this piece of info, as this\n",
    "# might be useful if I want to do any kind of predictive modeling\n",
    "\n",
    "df.isna().sum()\n",
    "\n",
    "# so there are some null values, need to think about them later on"
   ]
  },
  {
   "cell_type": "code",
   "execution_count": 165,
   "metadata": {},
   "outputs": [
    {
     "data": {
      "text/plain": [
       "array([1970, 1971, 1972, 1973, 1974, 1975, 1976, 1977, 1978, 1979, 1980,\n",
       "       1981, 1982, 1983, 1984, 1985, 1986, 1987, 1988, 1989, 1990, 1991,\n",
       "       1992, 1993, 1994, 1995, 1996], dtype=int64)"
      ]
     },
     "execution_count": 165,
     "metadata": {},
     "output_type": "execute_result"
    }
   ],
   "source": [
    "# I know this is a time series/panel dataset, first need to to know the time period unders study\n",
    "df[\"year\"].unique()\n",
    "# 1970 to 1996"
   ]
  },
  {
   "cell_type": "code",
   "execution_count": 166,
   "metadata": {},
   "outputs": [],
   "source": [
    "# now the dataset is ready to fire up, I'm now thinking what to do with it.\n",
    "# I probably could extract hundreds of different peices of information from this dataset if \n",
    "# I had no knowledge of these things in Africa"
   ]
  },
  {
   "cell_type": "code",
   "execution_count": 167,
   "metadata": {},
   "outputs": [],
   "source": [
    "# let's ask some questions"
   ]
  },
  {
   "cell_type": "code",
   "execution_count": 168,
   "metadata": {},
   "outputs": [
    {
     "name": "stdout",
     "output_type": "stream",
     "text": [
      " Number of countries:  18\n",
      "['Burkina Faso' 'Botswana' 'Cameroon' 'Ethiopia' 'Ghana' 'Gambia, The'\n",
      " 'Kenya' 'Liberia' 'Lesotho' 'Madagascar' 'Mauritius' 'Malawi' 'Nigeria'\n",
      " 'Sudan' 'Swaziland' 'Zaire' 'Zambia' 'Zimbabwe']\n"
     ]
    }
   ],
   "source": [
    "# since this data set is about aids to Africa, the first question I am interested in\n",
    "# Q. Which countries took aid?\n",
    "\n",
    "print(\" Number of countries: \", df[\"country\"].nunique())\n",
    "print(df[\"country\"].unique())\n",
    "\n",
    "# so 18 countries are in the dataset (for perspective, there are 54 countries in Africa). \n",
    "# I am sure other countries also take aids, so not sure why these specific countries were chosen.\n",
    "# It would be interesting to see these countries in the map to find any pattern, but that's a bit of work, \n",
    "# so I'm not going there."
   ]
  },
  {
   "cell_type": "code",
   "execution_count": 169,
   "metadata": {
    "scrolled": true
   },
   "outputs": [
    {
     "data": {
      "text/plain": [
       "<matplotlib.axes._subplots.AxesSubplot at 0x1e0c00ef548>"
      ]
     },
     "execution_count": 169,
     "metadata": {},
     "output_type": "execute_result"
    },
    {
     "data": {
      "image/png": "[encoded data removed]",
      "text/plain": [
       "<Figure size 432x288 with 1 Axes>"
      ]
     },
     "metadata": {
      "needs_background": "light"
     },
     "output_type": "display_data"
    }
   ],
   "source": [
    "# This is a panel dataset, meaning every country has a time series of its own for all variables. The next question:\n",
    "# Q. One average which countries received comparatively higher aid over the years?\n",
    "sns.boxplot(y=\"country\", x=\"aid_percap\", data=df)\n",
    "\n",
    "# on a per capita basis on average Botswana received the highest aid, close to $150, and seems NIgeria received the\n",
    "# least in a given year\n",
    "\n",
    "# This is a per capital basis aid I could go a bit further to know total grants taken by ALL people over the entire \n",
    "# 25 years in a calculated column first by multiplying per capita with total population and then summing for ehte period\n",
    "# but I', not going there, instead if you are interested try it out!"
   ]
  },
  {
   "cell_type": "code",
   "execution_count": 170,
   "metadata": {},
   "outputs": [
    {
     "data": {
      "text/plain": [
       "<matplotlib.axes._subplots.AxesSubplot at 0x1e0c05a99c8>"
      ]
     },
     "execution_count": 170,
     "metadata": {},
     "output_type": "execute_result"
    },
    {
     "data": {
      "image/png": "[encoded data removed]",
      "text/plain": [
       "<Figure size 432x288 with 1 Axes>"
      ]
     },
     "metadata": {
      "needs_background": "light"
     },
     "output_type": "display_data"
    }
   ],
   "source": [
    "# Q. what is the overall trend in giving aid during the study period\n",
    "sns.lineplot(x=\"year\", y=\"aid_percap\", data=df)\n",
    "\n",
    "\n",
    "# oevrall aids increased, from $25/cap in 1970 to about $50/cap in 1995, which peaked around 1980 ( I could go ahead \n",
    "# and find the reason why so much aid was given in that peiod)"
   ]
  },
  {
   "cell_type": "code",
   "execution_count": 171,
   "metadata": {},
   "outputs": [],
   "source": [
    "# I could go on and on asking similar kind of questions for each of the variables, but I'll stop here. I'll move on \n",
    "# a bit more interesting questions, some bi-variate analysis"
   ]
  },
  {
   "cell_type": "code",
   "execution_count": 172,
   "metadata": {
    "scrolled": false
   },
   "outputs": [
    {
     "data": {
      "text/plain": [
       "<seaborn.axisgrid.FacetGrid at 0x1e0bffc8208>"
      ]
     },
     "execution_count": 172,
     "metadata": {},
     "output_type": "execute_result"
    },
    {
     "data": {
      "image/png": "[encoded data removed]",
      "text/plain": [
       "<Figure size 360x360 with 1 Axes>"
      ]
     },
     "metadata": {
      "needs_background": "light"
     },
     "output_type": "display_data"
    }
   ],
   "source": [
    "# first I want to see if govt expenditure has any correlation with aid\n",
    "sns.lmplot(x=\"aid_percap\", y=\"govt_expenditure\", data=df, fit_reg=True)\n",
    "\n",
    "# The answer is kind of obvious, but yes \n",
    "# the upward trensline shows that yes, the higher they receive aid the more government expenditure."
   ]
  },
  {
   "cell_type": "markdown",
   "metadata": {},
   "source": [
    "# Building models"
   ]
  },
  {
   "cell_type": "code",
   "execution_count": 173,
   "metadata": {},
   "outputs": [
    {
     "name": "stdout",
     "output_type": "stream",
     "text": [
      "Model score:  0.4587828707861653\n",
      "Intercept:  0.8355629908191169\n",
      "Coefficients:  [0.02365732]\n",
      "*******\n",
      "Mean Absolute Error: 9.623160933594171\n",
      "Mean Squared Error: 163.25628045836336\n",
      "Root Mean Squared Error: 12.777178110144797\n"
     ]
    }
   ],
   "source": [
    "# import necessary libraries\n",
    "import numpy\n",
    "from sklearn.model_selection import train_test_split\n",
    "from sklearn.linear_model import LinearRegression\n",
    "from sklearn import metrics\n",
    "\n",
    "\n",
    "# d1 = df[[\"gdp_percap\", \"agri_gdp\", \"population\", \"aid_percap\"]]\n",
    "data = df[[ \"gdp_percap\", \"agri_expenditure\"]]\n",
    "\n",
    "# remove NA values\n",
    "data=data.dropna()\n",
    "\n",
    "# select x, y data for modeling\n",
    "y = data.iloc[:, 1].values\n",
    "X = data.iloc[:, :-1].values\n",
    "\n",
    "# Split X and y into X_\n",
    "X_train, X_test, y_train, y_test = train_test_split(X, y, test_size=0.25, random_state=1)\n",
    "\n",
    "# instantiate model\n",
    "model = LinearRegression()\n",
    "\n",
    "# fit model\n",
    "model.fit(X_train, y_train)\n",
    "\n",
    "# Model evaluation\n",
    "\n",
    "print(\"Model score: \", model.score(X_test, y_test))\n",
    "print(\"Intercept: \", model.intercept_)\n",
    "print(\"Coefficients: \", model.coef_)\n",
    "\n",
    "print(\"*******\")\n",
    "\n",
    "print('Mean Absolute Error:', metrics.mean_absolute_error(y_test, y_pred))  \n",
    "print('Mean Squared Error:', metrics.mean_squared_error(y_test, y_pred))  \n",
    "print('Root Mean Squared Error:', np.sqrt(metrics.mean_squared_error(y_test, y_pred)))\n"
   ]
  },
  {
   "cell_type": "code",
   "execution_count": 174,
   "metadata": {},
   "outputs": [
    {
     "data": {
      "text/plain": [
       "array([42.89960315, 26.18875916, 26.76779459,  7.91084516, 31.99203948,\n",
       "        8.31015701, 10.33975838, 15.30240969, 27.70261393,  6.55210366,\n",
       "       15.23984428, 10.18416429,  6.55170622, 24.79664343, 13.58212662,\n",
       "       17.1806022 ,  5.11893127, 14.64250273, 28.27812617, 10.80706409,\n",
       "       73.21381032,  7.8541717 ,  5.44559404,  8.57222131, 12.88013132,\n",
       "        8.88611109, 18.11881333, 32.30403194,  9.56635867, 22.62704455,\n",
       "       17.70322769, 17.49549984, 25.63706885, 31.14324073, 24.96534334,\n",
       "       18.27863308, 26.84231572, 17.01746719, 14.39096178,  6.64185246,\n",
       "       10.12544912,  7.45003352,  8.20934122, 24.56877567, 16.36888641,\n",
       "        8.93165836, 40.18781067,  8.14738515, 25.31939886, 65.07448518,\n",
       "       11.00016494, 43.28656436, 39.43929272, 26.45580213,  6.31215672,\n",
       "       42.50850075,  6.92169441,  9.93948849, 51.29182654, 16.42197243,\n",
       "        6.24978191,  3.63579716, 11.60183395, 10.65063974, 64.55418587,\n",
       "       51.80130794, 15.34048608,  6.69490852, 27.32705398,  8.4383865 ,\n",
       "       12.03798257, 30.57125167, 68.34378123, 66.6953177 , 18.62660823])"
      ]
     },
     "execution_count": 174,
     "metadata": {},
     "output_type": "execute_result"
    }
   ],
   "source": [
    "model.predict(X_test)"
   ]
  },
  {
   "cell_type": "code",
   "execution_count": 175,
   "metadata": {
    "scrolled": true
   },
   "outputs": [
    {
     "data": {
      "text/html": [
       "<div>\n",
       "<style scoped>\n",
       "    .dataframe tbody tr th:only-of-type {\n",
       "        vertical-align: middle;\n",
       "    }\n",
       "\n",
       "    .dataframe tbody tr th {\n",
       "        vertical-align: top;\n",
       "    }\n",
       "\n",
       "    .dataframe thead th {\n",
       "        text-align: right;\n",
       "    }\n",
       "</style>\n",
       "<table border=\"1\" class=\"dataframe\">\n",
       "  <thead>\n",
       "    <tr style=\"text-align: right;\">\n",
       "      <th></th>\n",
       "      <th>Actual</th>\n",
       "      <th>Predicted</th>\n",
       "    </tr>\n",
       "  </thead>\n",
       "  <tbody>\n",
       "    <tr>\n",
       "      <td>0</td>\n",
       "      <td>39.199532</td>\n",
       "      <td>42.899603</td>\n",
       "    </tr>\n",
       "    <tr>\n",
       "      <td>1</td>\n",
       "      <td>43.408241</td>\n",
       "      <td>26.188759</td>\n",
       "    </tr>\n",
       "    <tr>\n",
       "      <td>2</td>\n",
       "      <td>19.982460</td>\n",
       "      <td>26.767795</td>\n",
       "    </tr>\n",
       "    <tr>\n",
       "      <td>3</td>\n",
       "      <td>15.238520</td>\n",
       "      <td>7.910845</td>\n",
       "    </tr>\n",
       "    <tr>\n",
       "      <td>4</td>\n",
       "      <td>9.300573</td>\n",
       "      <td>31.992039</td>\n",
       "    </tr>\n",
       "  </tbody>\n",
       "</table>\n",
       "</div>"
      ],
      "text/plain": [
       "      Actual  Predicted\n",
       "0  39.199532  42.899603\n",
       "1  43.408241  26.188759\n",
       "2  19.982460  26.767795\n",
       "3  15.238520   7.910845\n",
       "4   9.300573  31.992039"
      ]
     },
     "execution_count": 175,
     "metadata": {},
     "output_type": "execute_result"
    }
   ],
   "source": [
    "y_pred = model.predict(X_test)\n",
    "s = pd.DataFrame({'Actual': y_test, 'Predicted': y_pred})\n",
    "df1 = s.head()\n",
    "df1"
   ]
  },
  {
   "cell_type": "markdown",
   "metadata": {},
   "source": [
    "# Extras"
   ]
  },
  {
   "cell_type": "code",
   "execution_count": 176,
   "metadata": {},
   "outputs": [
    {
     "data": {
      "text/plain": [
       "<matplotlib.axes._subplots.AxesSubplot at 0x1e0bfb04bc8>"
      ]
     },
     "execution_count": 176,
     "metadata": {},
     "output_type": "execute_result"
    },
    {
     "data": {
      "image/png": "[encoded data removed]",
      "text/plain": [
       "<Figure size 432x288 with 1 Axes>"
      ]
     },
     "metadata": {
      "needs_background": "light"
     },
     "output_type": "display_data"
    }
   ],
   "source": [
    "x=df.pivot(index='year',columns='country',values='grants_percap')\n",
    "#the arguments to the \"pivot\" function do the following\n",
    "## assigns the column \"date\" as the index \n",
    "## converts country data from rows to columns\n",
    "## applies this transformation to the 'pcturb' variable.\n",
    "\n",
    "x.plot.line(title='population time series', legend=False)"
   ]
  },
  {
   "cell_type": "code",
   "execution_count": 177,
   "metadata": {
    "scrolled": true
   },
   "outputs": [
    {
     "data": {
      "text/plain": [
       "<matplotlib.axes._subplots.AxesSubplot at 0x1e0bf680548>"
      ]
     },
     "execution_count": 177,
     "metadata": {},
     "output_type": "execute_result"
    },
    {
     "data": {
      "image/png": "[encoded data removed]",
      "text/plain": [
       "<Figure size 432x288 with 1 Axes>"
      ]
     },
     "metadata": {
      "needs_background": "light"
     },
     "output_type": "display_data"
    }
   ],
   "source": [
    "sns.lineplot(x=\"year\", y=\"aid_percap\", hue=\"country\", data=df, legend=False)"
   ]
  },
  {
   "cell_type": "code",
   "execution_count": 178,
   "metadata": {},
   "outputs": [
    {
     "data": {
      "text/html": [
       "<div>\n",
       "<style scoped>\n",
       "    .dataframe tbody tr th:only-of-type {\n",
       "        vertical-align: middle;\n",
       "    }\n",
       "\n",
       "    .dataframe tbody tr th {\n",
       "        vertical-align: top;\n",
       "    }\n",
       "\n",
       "    .dataframe thead tr th {\n",
       "        text-align: left;\n",
       "    }\n",
       "\n",
       "    .dataframe thead tr:last-of-type th {\n",
       "        text-align: right;\n",
       "    }\n",
       "</style>\n",
       "<table border=\"1\" class=\"dataframe\">\n",
       "  <thead>\n",
       "    <tr>\n",
       "      <th></th>\n",
       "      <th colspan=\"10\" halign=\"left\">population</th>\n",
       "      <th>...</th>\n",
       "      <th colspan=\"10\" halign=\"left\">agri_gdp</th>\n",
       "    </tr>\n",
       "    <tr>\n",
       "      <th>country</th>\n",
       "      <th>Botswana</th>\n",
       "      <th>Burkina Faso</th>\n",
       "      <th>Cameroon</th>\n",
       "      <th>Ethiopia</th>\n",
       "      <th>Gambia, The</th>\n",
       "      <th>Ghana</th>\n",
       "      <th>Kenya</th>\n",
       "      <th>Lesotho</th>\n",
       "      <th>Liberia</th>\n",
       "      <th>Madagascar</th>\n",
       "      <th>...</th>\n",
       "      <th>Liberia</th>\n",
       "      <th>Madagascar</th>\n",
       "      <th>Malawi</th>\n",
       "      <th>Mauritius</th>\n",
       "      <th>Nigeria</th>\n",
       "      <th>Sudan</th>\n",
       "      <th>Swaziland</th>\n",
       "      <th>Zaire</th>\n",
       "      <th>Zambia</th>\n",
       "      <th>Zimbabwe</th>\n",
       "    </tr>\n",
       "    <tr>\n",
       "      <th>year</th>\n",
       "      <th></th>\n",
       "      <th></th>\n",
       "      <th></th>\n",
       "      <th></th>\n",
       "      <th></th>\n",
       "      <th></th>\n",
       "      <th></th>\n",
       "      <th></th>\n",
       "      <th></th>\n",
       "      <th></th>\n",
       "      <th></th>\n",
       "      <th></th>\n",
       "      <th></th>\n",
       "      <th></th>\n",
       "      <th></th>\n",
       "      <th></th>\n",
       "      <th></th>\n",
       "      <th></th>\n",
       "      <th></th>\n",
       "      <th></th>\n",
       "      <th></th>\n",
       "    </tr>\n",
       "  </thead>\n",
       "  <tbody>\n",
       "    <tr>\n",
       "      <td>1970</td>\n",
       "      <td>623500.0</td>\n",
       "      <td>5633000.0</td>\n",
       "      <td>6506000.0</td>\n",
       "      <td>28937000.0</td>\n",
       "      <td>464000.0</td>\n",
       "      <td>8614000.0</td>\n",
       "      <td>11498000.0</td>\n",
       "      <td>1064000.0</td>\n",
       "      <td>1385000.0</td>\n",
       "      <td>6745000.0</td>\n",
       "      <td>...</td>\n",
       "      <td>24.101480</td>\n",
       "      <td>24.430279</td>\n",
       "      <td>43.971631</td>\n",
       "      <td>16.207741</td>\n",
       "      <td>41.284791</td>\n",
       "      <td>42.933898</td>\n",
       "      <td>33.195592</td>\n",
       "      <td>14.744036</td>\n",
       "      <td>10.651953</td>\n",
       "      <td>15.133531</td>\n",
       "    </tr>\n",
       "    <tr>\n",
       "      <td>1971</td>\n",
       "      <td>647390.0</td>\n",
       "      <td>5740700.0</td>\n",
       "      <td>6664330.0</td>\n",
       "      <td>29698260.0</td>\n",
       "      <td>478990.0</td>\n",
       "      <td>8876770.0</td>\n",
       "      <td>11903370.0</td>\n",
       "      <td>1084630.0</td>\n",
       "      <td>1426840.0</td>\n",
       "      <td>6901230.0</td>\n",
       "      <td>...</td>\n",
       "      <td>24.425000</td>\n",
       "      <td>24.307715</td>\n",
       "      <td>44.330262</td>\n",
       "      <td>17.167986</td>\n",
       "      <td>40.041774</td>\n",
       "      <td>44.250714</td>\n",
       "      <td>37.074830</td>\n",
       "      <td>13.638958</td>\n",
       "      <td>13.040901</td>\n",
       "      <td>17.123288</td>\n",
       "    </tr>\n",
       "    <tr>\n",
       "      <td>1972</td>\n",
       "      <td>672870.0</td>\n",
       "      <td>5848380.0</td>\n",
       "      <td>6835870.0</td>\n",
       "      <td>30475760.0</td>\n",
       "      <td>495250.0</td>\n",
       "      <td>9137910.0</td>\n",
       "      <td>12329860.0</td>\n",
       "      <td>1106900.0</td>\n",
       "      <td>1469960.0</td>\n",
       "      <td>7062230.0</td>\n",
       "      <td>...</td>\n",
       "      <td>22.523776</td>\n",
       "      <td>24.993516</td>\n",
       "      <td>45.631388</td>\n",
       "      <td>18.369201</td>\n",
       "      <td>38.265539</td>\n",
       "      <td>44.864341</td>\n",
       "      <td>33.055266</td>\n",
       "      <td>13.827999</td>\n",
       "      <td>12.874766</td>\n",
       "      <td>17.514970</td>\n",
       "    </tr>\n",
       "    <tr>\n",
       "      <td>1973</td>\n",
       "      <td>699530.0</td>\n",
       "      <td>5958700.0</td>\n",
       "      <td>7021850.0</td>\n",
       "      <td>31273540.0</td>\n",
       "      <td>512480.0</td>\n",
       "      <td>9388140.0</td>\n",
       "      <td>12778060.0</td>\n",
       "      <td>1131220.0</td>\n",
       "      <td>1514530.0</td>\n",
       "      <td>7230290.0</td>\n",
       "      <td>...</td>\n",
       "      <td>29.920565</td>\n",
       "      <td>26.778566</td>\n",
       "      <td>41.578638</td>\n",
       "      <td>19.931755</td>\n",
       "      <td>35.137757</td>\n",
       "      <td>43.509218</td>\n",
       "      <td>35.677530</td>\n",
       "      <td>13.783921</td>\n",
       "      <td>11.309112</td>\n",
       "      <td>14.827586</td>\n",
       "    </tr>\n",
       "    <tr>\n",
       "      <td>1974</td>\n",
       "      <td>727030.0</td>\n",
       "      <td>6075700.0</td>\n",
       "      <td>7222900.0</td>\n",
       "      <td>32098120.0</td>\n",
       "      <td>530170.0</td>\n",
       "      <td>9621420.0</td>\n",
       "      <td>13248300.0</td>\n",
       "      <td>1157870.0</td>\n",
       "      <td>1560820.0</td>\n",
       "      <td>7408570.0</td>\n",
       "      <td>...</td>\n",
       "      <td>32.281255</td>\n",
       "      <td>34.222350</td>\n",
       "      <td>41.172398</td>\n",
       "      <td>29.942267</td>\n",
       "      <td>31.825249</td>\n",
       "      <td>45.854620</td>\n",
       "      <td>34.970674</td>\n",
       "      <td>14.592043</td>\n",
       "      <td>10.645454</td>\n",
       "      <td>17.587940</td>\n",
       "    </tr>\n",
       "  </tbody>\n",
       "</table>\n",
       "<p>5 rows × 36 columns</p>\n",
       "</div>"
      ],
      "text/plain": [
       "        population                                                             \\\n",
       "country   Botswana Burkina Faso   Cameroon    Ethiopia Gambia, The      Ghana   \n",
       "year                                                                            \n",
       "1970      623500.0    5633000.0  6506000.0  28937000.0    464000.0  8614000.0   \n",
       "1971      647390.0    5740700.0  6664330.0  29698260.0    478990.0  8876770.0   \n",
       "1972      672870.0    5848380.0  6835870.0  30475760.0    495250.0  9137910.0   \n",
       "1973      699530.0    5958700.0  7021850.0  31273540.0    512480.0  9388140.0   \n",
       "1974      727030.0    6075700.0  7222900.0  32098120.0    530170.0  9621420.0   \n",
       "\n",
       "                                                      ...   agri_gdp  \\\n",
       "country       Kenya    Lesotho    Liberia Madagascar  ...    Liberia   \n",
       "year                                                  ...              \n",
       "1970     11498000.0  1064000.0  1385000.0  6745000.0  ...  24.101480   \n",
       "1971     11903370.0  1084630.0  1426840.0  6901230.0  ...  24.425000   \n",
       "1972     12329860.0  1106900.0  1469960.0  7062230.0  ...  22.523776   \n",
       "1973     12778060.0  1131220.0  1514530.0  7230290.0  ...  29.920565   \n",
       "1974     13248300.0  1157870.0  1560820.0  7408570.0  ...  32.281255   \n",
       "\n",
       "                                                                           \\\n",
       "country Madagascar     Malawi  Mauritius    Nigeria      Sudan  Swaziland   \n",
       "year                                                                        \n",
       "1970     24.430279  43.971631  16.207741  41.284791  42.933898  33.195592   \n",
       "1971     24.307715  44.330262  17.167986  40.041774  44.250714  37.074830   \n",
       "1972     24.993516  45.631388  18.369201  38.265539  44.864341  33.055266   \n",
       "1973     26.778566  41.578638  19.931755  35.137757  43.509218  35.677530   \n",
       "1974     34.222350  41.172398  29.942267  31.825249  45.854620  34.970674   \n",
       "\n",
       "                                          \n",
       "country      Zaire     Zambia   Zimbabwe  \n",
       "year                                      \n",
       "1970     14.744036  10.651953  15.133531  \n",
       "1971     13.638958  13.040901  17.123288  \n",
       "1972     13.827999  12.874766  17.514970  \n",
       "1973     13.783921  11.309112  14.827586  \n",
       "1974     14.592043  10.645454  17.587940  \n",
       "\n",
       "[5 rows x 36 columns]"
      ]
     },
     "execution_count": 178,
     "metadata": {},
     "output_type": "execute_result"
    }
   ],
   "source": [
    "# hierarchical group by // make a variable wide form using\n",
    "x=df.groupby([\"year\", \"country\"])[\"population\", \"agri_gdp\"].mean()\n",
    "y = x.unstack()\n",
    "y.head()"
   ]
  },
  {
   "cell_type": "code",
   "execution_count": 179,
   "metadata": {},
   "outputs": [
    {
     "data": {
      "text/html": [
       "<div>\n",
       "<style scoped>\n",
       "    .dataframe tbody tr th:only-of-type {\n",
       "        vertical-align: middle;\n",
       "    }\n",
       "\n",
       "    .dataframe tbody tr th {\n",
       "        vertical-align: top;\n",
       "    }\n",
       "\n",
       "    .dataframe thead th {\n",
       "        text-align: right;\n",
       "    }\n",
       "</style>\n",
       "<table border=\"1\" class=\"dataframe\">\n",
       "  <thead>\n",
       "    <tr style=\"text-align: right;\">\n",
       "      <th></th>\n",
       "      <th></th>\n",
       "      <th>population</th>\n",
       "      <th>agri_gdp</th>\n",
       "    </tr>\n",
       "    <tr>\n",
       "      <th>year</th>\n",
       "      <th>country</th>\n",
       "      <th></th>\n",
       "      <th></th>\n",
       "    </tr>\n",
       "  </thead>\n",
       "  <tbody>\n",
       "    <tr>\n",
       "      <td rowspan=\"5\" valign=\"top\">1970</td>\n",
       "      <td>Botswana</td>\n",
       "      <td>623500.0</td>\n",
       "      <td>33.055092</td>\n",
       "    </tr>\n",
       "    <tr>\n",
       "      <td>Burkina Faso</td>\n",
       "      <td>5633000.0</td>\n",
       "      <td>35.441889</td>\n",
       "    </tr>\n",
       "    <tr>\n",
       "      <td>Cameroon</td>\n",
       "      <td>6506000.0</td>\n",
       "      <td>31.363922</td>\n",
       "    </tr>\n",
       "    <tr>\n",
       "      <td>Ethiopia</td>\n",
       "      <td>28937000.0</td>\n",
       "      <td>NaN</td>\n",
       "    </tr>\n",
       "    <tr>\n",
       "      <td>Gambia, The</td>\n",
       "      <td>464000.0</td>\n",
       "      <td>32.544379</td>\n",
       "    </tr>\n",
       "  </tbody>\n",
       "</table>\n",
       "</div>"
      ],
      "text/plain": [
       "                   population   agri_gdp\n",
       "year country                            \n",
       "1970 Botswana        623500.0  33.055092\n",
       "     Burkina Faso   5633000.0  35.441889\n",
       "     Cameroon       6506000.0  31.363922\n",
       "     Ethiopia      28937000.0        NaN\n",
       "     Gambia, The     464000.0  32.544379"
      ]
     },
     "execution_count": 179,
     "metadata": {},
     "output_type": "execute_result"
    }
   ],
   "source": [
    "x.head()"
   ]
  },
  {
   "cell_type": "code",
   "execution_count": 180,
   "metadata": {},
   "outputs": [
    {
     "data": {
      "text/plain": [
       "year  country     \n",
       "1970  Botswana          623500.0\n",
       "      Burkina Faso     5633000.0\n",
       "      Cameroon         6506000.0\n",
       "      Ethiopia        28937000.0\n",
       "      Gambia, The       464000.0\n",
       "                         ...    \n",
       "1995  Zambia           8978000.0\n",
       "      Zimbabwe        11011000.0\n",
       "1996  Madagascar             NaN\n",
       "      Mauritius              NaN\n",
       "      Zambia                 NaN\n",
       "Name: population, Length: 471, dtype: float64"
      ]
     },
     "execution_count": 180,
     "metadata": {},
     "output_type": "execute_result"
    }
   ],
   "source": [
    "x[\"population\"]"
   ]
  },
  {
   "cell_type": "code",
   "execution_count": 181,
   "metadata": {},
   "outputs": [
    {
     "data": {
      "text/html": [
       "<div>\n",
       "<style scoped>\n",
       "    .dataframe tbody tr th:only-of-type {\n",
       "        vertical-align: middle;\n",
       "    }\n",
       "\n",
       "    .dataframe tbody tr th {\n",
       "        vertical-align: top;\n",
       "    }\n",
       "\n",
       "    .dataframe thead th {\n",
       "        text-align: right;\n",
       "    }\n",
       "</style>\n",
       "<table border=\"1\" class=\"dataframe\">\n",
       "  <thead>\n",
       "    <tr style=\"text-align: right;\">\n",
       "      <th></th>\n",
       "      <th>country</th>\n",
       "      <th>year</th>\n",
       "      <th>agri_gdp</th>\n",
       "      <th>population</th>\n",
       "      <th>infant_mort</th>\n",
       "      <th>school_enroll_primary</th>\n",
       "      <th>school_enroll_secondary</th>\n",
       "      <th>grants_percap</th>\n",
       "      <th>loans_percap</th>\n",
       "      <th>aid_percap</th>\n",
       "      <th>...</th>\n",
       "      <th>health_expenditure</th>\n",
       "      <th>gdp_percap</th>\n",
       "      <th>num_donors</th>\n",
       "      <th>loan_to_agri</th>\n",
       "      <th>loan_to_energy</th>\n",
       "      <th>loan_to_indus</th>\n",
       "      <th>loan_to_comm</th>\n",
       "      <th>loan_to_edu</th>\n",
       "      <th>loan_to_health</th>\n",
       "      <th>loan_to_others</th>\n",
       "    </tr>\n",
       "  </thead>\n",
       "  <tbody>\n",
       "    <tr>\n",
       "      <td>20</td>\n",
       "      <td>Burkina Faso</td>\n",
       "      <td>1990</td>\n",
       "      <td>32.334722</td>\n",
       "      <td>9016000.0</td>\n",
       "      <td>105.400000</td>\n",
       "      <td>37.0</td>\n",
       "      <td>8.0</td>\n",
       "      <td>35.053070</td>\n",
       "      <td>10.197580</td>\n",
       "      <td>45.250641</td>\n",
       "      <td>...</td>\n",
       "      <td>3.423738</td>\n",
       "      <td>342.223694</td>\n",
       "      <td>21.0</td>\n",
       "      <td>1.530403</td>\n",
       "      <td>2.097616</td>\n",
       "      <td>0.728107</td>\n",
       "      <td>0.990899</td>\n",
       "      <td>0.780972</td>\n",
       "      <td>0.509496</td>\n",
       "      <td>2.260681</td>\n",
       "    </tr>\n",
       "    <tr>\n",
       "      <td>46</td>\n",
       "      <td>Botswana</td>\n",
       "      <td>1990</td>\n",
       "      <td>5.456681</td>\n",
       "      <td>1277000.0</td>\n",
       "      <td>55.800000</td>\n",
       "      <td>114.0</td>\n",
       "      <td>42.0</td>\n",
       "      <td>125.423897</td>\n",
       "      <td>14.686280</td>\n",
       "      <td>140.110199</td>\n",
       "      <td>...</td>\n",
       "      <td>55.913792</td>\n",
       "      <td>2693.399902</td>\n",
       "      <td>20.0</td>\n",
       "      <td>0.608548</td>\n",
       "      <td>2.558605</td>\n",
       "      <td>0.000000</td>\n",
       "      <td>0.000000</td>\n",
       "      <td>2.704656</td>\n",
       "      <td>0.000000</td>\n",
       "      <td>10.595940</td>\n",
       "    </tr>\n",
       "    <tr>\n",
       "      <td>72</td>\n",
       "      <td>Cameroon</td>\n",
       "      <td>1990</td>\n",
       "      <td>23.994870</td>\n",
       "      <td>11484000.0</td>\n",
       "      <td>66.200000</td>\n",
       "      <td>101.0</td>\n",
       "      <td>28.0</td>\n",
       "      <td>44.158539</td>\n",
       "      <td>21.212099</td>\n",
       "      <td>65.370644</td>\n",
       "      <td>...</td>\n",
       "      <td>9.889886</td>\n",
       "      <td>1034.937012</td>\n",
       "      <td>20.0</td>\n",
       "      <td>1.810232</td>\n",
       "      <td>1.115994</td>\n",
       "      <td>0.120903</td>\n",
       "      <td>5.110894</td>\n",
       "      <td>0.100652</td>\n",
       "      <td>0.135940</td>\n",
       "      <td>2.469081</td>\n",
       "    </tr>\n",
       "    <tr>\n",
       "      <td>98</td>\n",
       "      <td>Ethiopia</td>\n",
       "      <td>1990</td>\n",
       "      <td>49.268665</td>\n",
       "      <td>51180000.0</td>\n",
       "      <td>124.200000</td>\n",
       "      <td>31.0</td>\n",
       "      <td>13.0</td>\n",
       "      <td>19.305910</td>\n",
       "      <td>4.054906</td>\n",
       "      <td>23.360809</td>\n",
       "      <td>...</td>\n",
       "      <td>1.705038</td>\n",
       "      <td>181.058899</td>\n",
       "      <td>25.0</td>\n",
       "      <td>1.287848</td>\n",
       "      <td>1.092818</td>\n",
       "      <td>0.870323</td>\n",
       "      <td>0.508247</td>\n",
       "      <td>0.142707</td>\n",
       "      <td>0.013317</td>\n",
       "      <td>3.309632</td>\n",
       "    </tr>\n",
       "    <tr>\n",
       "      <td>124</td>\n",
       "      <td>Ghana</td>\n",
       "      <td>1990</td>\n",
       "      <td>47.857695</td>\n",
       "      <td>14870000.0</td>\n",
       "      <td>82.740001</td>\n",
       "      <td>77.0</td>\n",
       "      <td>37.0</td>\n",
       "      <td>39.549290</td>\n",
       "      <td>28.968639</td>\n",
       "      <td>68.517929</td>\n",
       "      <td>...</td>\n",
       "      <td>6.098817</td>\n",
       "      <td>473.326202</td>\n",
       "      <td>25.0</td>\n",
       "      <td>1.457413</td>\n",
       "      <td>1.471117</td>\n",
       "      <td>3.467705</td>\n",
       "      <td>1.930314</td>\n",
       "      <td>0.148575</td>\n",
       "      <td>0.422343</td>\n",
       "      <td>15.795020</td>\n",
       "    </tr>\n",
       "  </tbody>\n",
       "</table>\n",
       "<p>5 rows × 26 columns</p>\n",
       "</div>"
      ],
      "text/plain": [
       "          country  year   agri_gdp  population  infant_mort  \\\n",
       "20   Burkina Faso  1990  32.334722   9016000.0   105.400000   \n",
       "46       Botswana  1990   5.456681   1277000.0    55.800000   \n",
       "72       Cameroon  1990  23.994870  11484000.0    66.200000   \n",
       "98       Ethiopia  1990  49.268665  51180000.0   124.200000   \n",
       "124         Ghana  1990  47.857695  14870000.0    82.740001   \n",
       "\n",
       "     school_enroll_primary  school_enroll_secondary  grants_percap  \\\n",
       "20                    37.0                      8.0      35.053070   \n",
       "46                   114.0                     42.0     125.423897   \n",
       "72                   101.0                     28.0      44.158539   \n",
       "98                    31.0                     13.0      19.305910   \n",
       "124                   77.0                     37.0      39.549290   \n",
       "\n",
       "     loans_percap  aid_percap  ...  health_expenditure   gdp_percap  \\\n",
       "20      10.197580   45.250641  ...            3.423738   342.223694   \n",
       "46      14.686280  140.110199  ...           55.913792  2693.399902   \n",
       "72      21.212099   65.370644  ...            9.889886  1034.937012   \n",
       "98       4.054906   23.360809  ...            1.705038   181.058899   \n",
       "124     28.968639   68.517929  ...            6.098817   473.326202   \n",
       "\n",
       "     num_donors  loan_to_agri  loan_to_energy  loan_to_indus  loan_to_comm  \\\n",
       "20         21.0      1.530403        2.097616       0.728107      0.990899   \n",
       "46         20.0      0.608548        2.558605       0.000000      0.000000   \n",
       "72         20.0      1.810232        1.115994       0.120903      5.110894   \n",
       "98         25.0      1.287848        1.092818       0.870323      0.508247   \n",
       "124        25.0      1.457413        1.471117       3.467705      1.930314   \n",
       "\n",
       "     loan_to_edu  loan_to_health  loan_to_others  \n",
       "20      0.780972        0.509496        2.260681  \n",
       "46      2.704656        0.000000       10.595940  \n",
       "72      0.100652        0.135940        2.469081  \n",
       "98      0.142707        0.013317        3.309632  \n",
       "124     0.148575        0.422343       15.795020  \n",
       "\n",
       "[5 rows x 26 columns]"
      ]
     },
     "execution_count": 181,
     "metadata": {},
     "output_type": "execute_result"
    }
   ],
   "source": [
    "## panel data filtering\n",
    "pan = df[df[\"year\"].isin([1990])]\n",
    "pan.head()"
   ]
  }
 ],
 "metadata": {
  "kernelspec": {
   "display_name": "Python 3",
   "language": "python",
   "name": "python3"
  },
  "language_info": {
   "codemirror_mode": {
    "name": "ipython",
    "version": 3
   },
   "file_extension": ".py",
   "mimetype": "text/x-python",
   "name": "python",
   "nbconvert_exporter": "python",
   "pygments_lexer": "ipython3",
   "version": "3.7.4"
  }
 },
 "nbformat": 4,
 "nbformat_minor": 2
}
